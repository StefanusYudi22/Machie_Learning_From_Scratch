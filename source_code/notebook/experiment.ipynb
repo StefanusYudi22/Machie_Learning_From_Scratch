{
 "cells": [
  {
   "cell_type": "code",
   "execution_count": 66,
   "metadata": {},
   "outputs": [],
   "source": [
    "import numpy as np\n",
    "\n",
    "X = np.array([[0,1,1],[1,1,6],[2,1,1],[3,1,2]])\n",
    "X_input = np.array([[0,1,2],[1,1,1],[2,2,2]])"
   ]
  },
  {
   "cell_type": "code",
   "execution_count": 24,
   "metadata": {},
   "outputs": [
    {
     "data": {
      "text/plain": [
       "array([[0, 0, 1],\n",
       "       [1, 0, 1],\n",
       "       [2, 0, 1],\n",
       "       [3, 0, 0]])"
      ]
     },
     "execution_count": 24,
     "metadata": {},
     "output_type": "execute_result"
    }
   ],
   "source": [
    "\n",
    "np.abs(X - X_input)"
   ]
  },
  {
   "cell_type": "code",
   "execution_count": 29,
   "metadata": {},
   "outputs": [
    {
     "name": "stdout",
     "output_type": "stream",
     "text": [
      "[1 2 3 3]\n",
      "[1 0 1 3]\n",
      "[4 3 2 2]\n"
     ]
    }
   ],
   "source": [
    "for input in X_input:\n",
    "    print(np.sum(np.abs(X - input), axis=1))"
   ]
  },
  {
   "cell_type": "code",
   "execution_count": 67,
   "metadata": {},
   "outputs": [],
   "source": [
    "container = np.empty((X_input.shape[0], X.shape[0]))\n",
    "for index, input in enumerate(X_input):\n",
    "    container[index] = np.linalg.norm(X - input, axis=1)"
   ]
  },
  {
   "cell_type": "code",
   "execution_count": 71,
   "metadata": {},
   "outputs": [],
   "source": [
    "index_container = np.argsort(container, axis=1)[:,:2]\n",
    "distance_container = np.sort(container, axis=1)[:,:2]"
   ]
  },
  {
   "cell_type": "code",
   "execution_count": 92,
   "metadata": {},
   "outputs": [],
   "source": [
    "y = np.array([[1,1,3,4],[2,2,3,10]])"
   ]
  },
  {
   "cell_type": "code",
   "execution_count": 81,
   "metadata": {},
   "outputs": [
    {
     "name": "stdout",
     "output_type": "stream",
     "text": [
      "[1.         2.23606798] 3.23606797749979\n",
      "[1. 1.] 2.0\n",
      "[1.41421356 1.41421356] 2.8284271247461903\n"
     ]
    }
   ],
   "source": [
    "for data in zip(index_container,distance_container):\n",
    "    print(data[1], np.sum(data[1]))"
   ]
  },
  {
   "cell_type": "code",
   "execution_count": 94,
   "metadata": {},
   "outputs": [
    {
     "data": {
      "text/plain": [
       "array([3, 3])"
      ]
     },
     "execution_count": 94,
     "metadata": {},
     "output_type": "execute_result"
    }
   ],
   "source": [
    "np.argmax(y,axis=1)"
   ]
  },
  {
   "cell_type": "code",
   "execution_count": 58,
   "metadata": {},
   "outputs": [
    {
     "data": {
      "text/plain": [
       "array([0, 3])"
      ]
     },
     "execution_count": 58,
     "metadata": {},
     "output_type": "execute_result"
    }
   ],
   "source": [
    "y[[1,5]]"
   ]
  },
  {
   "cell_type": "code",
   "execution_count": 47,
   "metadata": {},
   "outputs": [
    {
     "data": {
      "text/plain": [
       "array([[0, 1],\n",
       "       [1, 0],\n",
       "       [2, 3]])"
      ]
     },
     "execution_count": 47,
     "metadata": {},
     "output_type": "execute_result"
    }
   ],
   "source": [
    "np.argsort(container, axis=1)[:,:2]"
   ]
  },
  {
   "cell_type": "code",
   "execution_count": 17,
   "metadata": {},
   "outputs": [
    {
     "data": {
      "text/plain": [
       "5.0"
      ]
     },
     "execution_count": 17,
     "metadata": {},
     "output_type": "execute_result"
    }
   ],
   "source": [
    "a1 = np.array([3,0])\n",
    "a2 = np.array([0,4])\n",
    "\n",
    "np.linalg.norm(a2-a1)"
   ]
  },
  {
   "cell_type": "code",
   "execution_count": 14,
   "metadata": {},
   "outputs": [],
   "source": [
    "def compute_distance(self,\n",
    "                        x_1 : np.array,\n",
    "                        x_2 : np.array) -> np.array :\n",
    "    \"\"\"Compute distance between data input and registered data\n",
    "\n",
    "    Args:\n",
    "        x1 (np.array) (m,1): Input data array\n",
    "        x2 (np.array) (m,1): Registered data array\n",
    "\n",
    "    Returns:\n",
    "        np.array (scalar): Distance of x1 and x2 \n",
    "    \"\"\"\n",
    "    abs_diff = np.abs(x_1-x_2)\n",
    "    sigma_diff = np.sum(np.power(abs_diff, self.power))\n",
    "    dist = np.power(sigma_diff, 1.0/self.power)\n",
    "\n",
    "    return dist"
   ]
  }
 ],
 "metadata": {
  "kernelspec": {
   "display_name": "base",
   "language": "python",
   "name": "python3"
  },
  "language_info": {
   "codemirror_mode": {
    "name": "ipython",
    "version": 3
   },
   "file_extension": ".py",
   "mimetype": "text/x-python",
   "name": "python",
   "nbconvert_exporter": "python",
   "pygments_lexer": "ipython3",
   "version": "3.9.12"
  },
  "orig_nbformat": 4
 },
 "nbformat": 4,
 "nbformat_minor": 2
}
