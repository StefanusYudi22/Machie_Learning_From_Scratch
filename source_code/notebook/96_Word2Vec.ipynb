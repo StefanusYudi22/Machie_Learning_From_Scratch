{
 "cells": [
  {
   "attachments": {},
   "cell_type": "markdown",
   "metadata": {},
   "source": [
    "# Word2Vec Generator"
   ]
  },
  {
   "attachments": {},
   "cell_type": "markdown",
   "metadata": {},
   "source": [
    "## Import Library"
   ]
  },
  {
   "cell_type": "code",
   "execution_count": 11,
   "metadata": {},
   "outputs": [],
   "source": [
    "import tensorflow as tf\n",
    "import pandas as pd\n",
    "import numpy as np\n",
    "import joblib"
   ]
  },
  {
   "attachments": {},
   "cell_type": "markdown",
   "metadata": {},
   "source": [
    "## Import Model Embedding"
   ]
  },
  {
   "cell_type": "code",
   "execution_count": 3,
   "metadata": {},
   "outputs": [
    {
     "name": "stdout",
     "output_type": "stream",
     "text": [
      "WARNING:tensorflow:SavedModel saved prior to TF 2.5 detected when loading Keras model. Please ensure that you are saving the model with model.save() or tf.keras.models.save_model(), *NOT* tf.saved_model.save(). To confirm, there should be a file named \"keras_metadata.pb\" in the SavedModel directory.\n"
     ]
    },
    {
     "name": "stderr",
     "output_type": "stream",
     "text": [
      "2023-06-24 11:47:26.505654: W tensorflow/compiler/xla/stream_executor/platform/default/dso_loader.cc:64] Could not load dynamic library 'libcuda.so.1'; dlerror: libcuda.so.1: cannot open shared object file: No such file or directory\n",
      "2023-06-24 11:47:26.505889: W tensorflow/compiler/xla/stream_executor/cuda/cuda_driver.cc:265] failed call to cuInit: UNKNOWN ERROR (303)\n",
      "2023-06-24 11:47:26.506020: I tensorflow/compiler/xla/stream_executor/cuda/cuda_diagnostics.cc:156] kernel driver does not appear to be running on this host (SAT-PC): /proc/driver/nvidia/version does not exist\n",
      "2023-06-24 11:47:26.506876: I tensorflow/core/platform/cpu_feature_guard.cc:193] This TensorFlow binary is optimized with oneAPI Deep Neural Network Library (oneDNN) to use the following CPU instructions in performance-critical operations:  AVX2 AVX512F AVX512_VNNI FMA\n",
      "To enable them in other operations, rebuild TensorFlow with the appropriate compiler flags.\n"
     ]
    }
   ],
   "source": [
    "embedding = tf.keras.models.load_model(\"../../model/nnlm-id-dim50/\")"
   ]
  },
  {
   "cell_type": "code",
   "execution_count": 8,
   "metadata": {},
   "outputs": [],
   "source": [
    "def embed_text(model : object, \n",
    "               text : str) -> list :\n",
    "    \"\"\"Function to create embedding \n",
    "        using model object\n",
    "\n",
    "    Args:\n",
    "        model (object): Embedding model\n",
    "        text (str): text input\n",
    "\n",
    "    Returns:\n",
    "        list: embedding of the text input\n",
    "    \"\"\"\n",
    "    try :\n",
    "        embedding_list = model([text]).numpy().squeeze().tolist()\n",
    "        return embedding_list\n",
    "    except : \n",
    "        print(f\"The error text is : {text}\")\n",
    "        return None\n",
    "    "
   ]
  },
  {
   "attachments": {},
   "cell_type": "markdown",
   "metadata": {},
   "source": [
    "## Vetorize Data"
   ]
  },
  {
   "attachments": {},
   "cell_type": "markdown",
   "metadata": {},
   "source": [
    "Data Source : \n",
    "- https://github.com/kirralabs/indonesian-NLP-resources\n",
    "- https://github.com/sastrawi/sastrawi/blob/master/data/kata-dasar.original.txt\n",
    "- https://github.com/edwardsamuel/Wilayah-Administratif-Indonesia/tree/master/csv"
   ]
  },
  {
   "cell_type": "code",
   "execution_count": 9,
   "metadata": {},
   "outputs": [
    {
     "name": "stdout",
     "output_type": "stream",
     "text": [
      "<class 'pandas.core.frame.DataFrame'>\n",
      "RangeIndex: 93566 entries, 0 to 93565\n",
      "Data columns (total 1 columns):\n",
      " #   Column  Non-Null Count  Dtype \n",
      "---  ------  --------------  ----- \n",
      " 0   words   93566 non-null  object\n",
      "dtypes: object(1)\n",
      "memory usage: 731.1+ KB\n"
     ]
    }
   ],
   "source": [
    "# import data\n",
    "district_data = pd.read_csv(\"../../data/raw/districts.csv\", header=None)\n",
    "province_data = pd.read_csv(\"../../data/raw/provinces.csv\", header=None)\n",
    "regencies_data = pd.read_csv(\"../../data/raw/regencies.csv\", header=None)\n",
    "villages_data = pd.read_csv(\"../../data/raw/villages.csv\", header=None)\n",
    "kata_data = pd.read_table(\"../../data/raw/kata-dasar.original.txt\", header=None)\n",
    "\n",
    "# format data\n",
    "district_data = district_data[2].apply(lambda x: x.lower())\n",
    "province_data = province_data[1].apply(lambda x: x.lower())\n",
    "regencies_data = regencies_data[2].apply(lambda x: x.lower())\n",
    "villages_data = villages_data[2].apply(lambda x: x.lower())\n",
    "\n",
    "# concat data\n",
    "dataset = pd.concat([district_data, province_data, regencies_data, villages_data, kata_data], axis=0)\n",
    "dataset.columns = [\"words\"]\n",
    "dataset.drop_duplicates(inplace=True)\n",
    "dataset.dropna(inplace=True)\n",
    "dataset.reset_index(drop=True, inplace=True)\n",
    "dataset.info()"
   ]
  },
  {
   "cell_type": "code",
   "execution_count": 10,
   "metadata": {},
   "outputs": [],
   "source": [
    "# create embedding \n",
    "dataset['embedding'] = dataset['words'].apply(lambda x : embed_text(model=embedding, text=x))"
   ]
  },
  {
   "cell_type": "code",
   "execution_count": 14,
   "metadata": {},
   "outputs": [
    {
     "data": {
      "text/plain": [
       "['../../data/processed/word_embedding.pkl']"
      ]
     },
     "execution_count": 14,
     "metadata": {},
     "output_type": "execute_result"
    }
   ],
   "source": [
    "joblib.dump(dataset,\"../../data/processed/word_embedding.pkl\")"
   ]
  }
 ],
 "metadata": {
  "kernelspec": {
   "display_name": "base",
   "language": "python",
   "name": "python3"
  },
  "language_info": {
   "codemirror_mode": {
    "name": "ipython",
    "version": 3
   },
   "file_extension": ".py",
   "mimetype": "text/x-python",
   "name": "python",
   "nbconvert_exporter": "python",
   "pygments_lexer": "ipython3",
   "version": "3.9.12"
  },
  "orig_nbformat": 4
 },
 "nbformat": 4,
 "nbformat_minor": 2
}
