{
 "cells": [
  {
   "attachments": {},
   "cell_type": "markdown",
   "metadata": {},
   "source": [
    "# ENSEMBLE MODEL"
   ]
  },
  {
   "attachments": {},
   "cell_type": "markdown",
   "metadata": {},
   "source": [
    "## 1. Classifier Case"
   ]
  },
  {
   "cell_type": "code",
   "execution_count": 1,
   "metadata": {},
   "outputs": [],
   "source": [
    "import numpy as np\n",
    "import pandas as pd\n",
    "import sys\n",
    "sys.path.append(\"../\")\n",
    "\n",
    "from src.tree import DecisionTreeClassifier\n",
    "from src.ensemble import BaggingClassifier\n",
    "\n",
    "from sklearn.model_selection import train_test_split\n",
    "from sklearn.metrics import accuracy_score"
   ]
  },
  {
   "cell_type": "code",
   "execution_count": 2,
   "metadata": {},
   "outputs": [],
   "source": [
    "def load_data(filename):\n",
    "    return pd.read_csv(filename, sep = \";\")\n",
    "\n",
    "def split_input_output(data, target_column):\n",
    "    X = data.drop(columns=[target_column])\n",
    "    y = data[target_column]\n",
    "\n",
    "    return X, y\n",
    "\n",
    "def split_train_test(X, y, test_size, random_state=42):\n",
    "    return train_test_split(X, y,\n",
    "                            test_size = test_size,\n",
    "                            stratify = y,\n",
    "                            random_state = random_state)"
   ]
  },
  {
   "cell_type": "code",
   "execution_count": 3,
   "metadata": {},
   "outputs": [],
   "source": [
    "# PREPARE THE DATA\n",
    "# -----------------\n",
    "# Load data\n",
    "filename = \"../../data/raw/bank.csv\"\n",
    "data = load_data(filename)\n",
    "\n",
    "# Filter data\n",
    "data = data[[\"age\", \"balance\", \"duration\", \"day\", \"y\"]]\n",
    "data[\"y\"] = np.where(data[\"y\"] == \"no\", -1, 1)\n",
    "\n",
    "# Split data\n",
    "X, y = split_input_output(data, \"y\")\n",
    "X_train, X_test, y_train, y_test = split_train_test(X, y, test_size=0.2)\n",
    "X_train, X_valid, y_train, y_valid = split_train_test(X_train, y_train, test_size=0.2)"
   ]
  },
  {
   "cell_type": "code",
   "execution_count": 4,
   "metadata": {},
   "outputs": [
    {
     "name": "stdout",
     "output_type": "stream",
     "text": [
      "Decision Tree\n",
      "-------------\n",
      "acc. train  : 100.00%\n",
      "acc. valid  : 82.73%\n",
      "\n"
     ]
    }
   ],
   "source": [
    "# TREE MODELING\n",
    "# -------------\n",
    "# Create Decision Tree Classifier\n",
    "clf_tree = DecisionTreeClassifier()\n",
    "clf_tree.fit(X_train, y_train)\n",
    "\n",
    "# Predict the tree\n",
    "y_pred_train_tree = clf_tree.predict(X_train)\n",
    "y_pred_valid_tree = clf_tree.predict(X_valid)\n",
    "\n",
    "acc_train_tree = accuracy_score(y_train, y_pred_train_tree)\n",
    "acc_valid_tree = accuracy_score(y_valid, y_pred_valid_tree)\n",
    "\n",
    "print(\"Decision Tree\")\n",
    "print(\"-------------\")\n",
    "print(f\"acc. train  : {acc_train_tree*100:.2f}%\")\n",
    "print(f\"acc. valid  : {acc_valid_tree*100:.2f}%\")\n",
    "print(\"\")"
   ]
  },
  {
   "cell_type": "code",
   "execution_count": 5,
   "metadata": {},
   "outputs": [
    {
     "name": "stdout",
     "output_type": "stream",
     "text": [
      "4 4\n",
      "Bagging Tree\n",
      "-------------\n",
      "acc. train  : 98.55%\n",
      "acc. valid  : 87.29%\n",
      "\n"
     ]
    }
   ],
   "source": [
    "# BAGGING MODELING\n",
    "# -------------\n",
    "# Create Bagging Classifier\n",
    "clf_bagging = BaggingClassifier(estimator = DecisionTreeClassifier(),\n",
    "                                n_estimators = 10,\n",
    "                                random_state = 42)\n",
    "clf_bagging.fit(X_train, y_train)\n",
    "\n",
    "# Predict the tree\n",
    "y_pred_train_bagging = clf_bagging.predict(X_train)\n",
    "y_pred_valid_bagging = clf_bagging.predict(X_valid)\n",
    "\n",
    "acc_train_bagging = accuracy_score(y_train, y_pred_train_bagging)\n",
    "acc_valid_bagging = accuracy_score(y_valid, y_pred_valid_bagging)\n",
    "\n",
    "print(\"Bagging Tree\")\n",
    "print(\"-------------\")\n",
    "print(f\"acc. train  : {acc_train_bagging*100:.2f}%\")\n",
    "print(f\"acc. valid  : {acc_valid_bagging*100:.2f}%\")\n",
    "print(\"\")"
   ]
  },
  {
   "attachments": {},
   "cell_type": "markdown",
   "metadata": {},
   "source": [
    "## 2. Regression Case"
   ]
  },
  {
   "cell_type": "code",
   "execution_count": null,
   "metadata": {},
   "outputs": [],
   "source": []
  },
  {
   "cell_type": "code",
   "execution_count": null,
   "metadata": {},
   "outputs": [],
   "source": []
  },
  {
   "cell_type": "code",
   "execution_count": null,
   "metadata": {},
   "outputs": [],
   "source": []
  },
  {
   "cell_type": "code",
   "execution_count": null,
   "metadata": {},
   "outputs": [],
   "source": []
  },
  {
   "cell_type": "code",
   "execution_count": null,
   "metadata": {},
   "outputs": [],
   "source": []
  },
  {
   "cell_type": "code",
   "execution_count": null,
   "metadata": {},
   "outputs": [],
   "source": []
  },
  {
   "cell_type": "code",
   "execution_count": null,
   "metadata": {},
   "outputs": [],
   "source": []
  },
  {
   "cell_type": "code",
   "execution_count": null,
   "metadata": {},
   "outputs": [],
   "source": []
  },
  {
   "cell_type": "code",
   "execution_count": null,
   "metadata": {},
   "outputs": [],
   "source": []
  },
  {
   "cell_type": "code",
   "execution_count": null,
   "metadata": {},
   "outputs": [],
   "source": []
  },
  {
   "cell_type": "code",
   "execution_count": null,
   "metadata": {},
   "outputs": [],
   "source": []
  },
  {
   "cell_type": "code",
   "execution_count": null,
   "metadata": {},
   "outputs": [],
   "source": []
  },
  {
   "cell_type": "code",
   "execution_count": null,
   "metadata": {},
   "outputs": [],
   "source": []
  },
  {
   "cell_type": "code",
   "execution_count": null,
   "metadata": {},
   "outputs": [],
   "source": []
  },
  {
   "cell_type": "code",
   "execution_count": null,
   "metadata": {},
   "outputs": [],
   "source": []
  }
 ],
 "metadata": {
  "kernelspec": {
   "display_name": "base",
   "language": "python",
   "name": "python3"
  },
  "language_info": {
   "codemirror_mode": {
    "name": "ipython",
    "version": 3
   },
   "file_extension": ".py",
   "mimetype": "text/x-python",
   "name": "python",
   "nbconvert_exporter": "python",
   "pygments_lexer": "ipython3",
   "version": "3.9.12"
  },
  "orig_nbformat": 4
 },
 "nbformat": 4,
 "nbformat_minor": 2
}
