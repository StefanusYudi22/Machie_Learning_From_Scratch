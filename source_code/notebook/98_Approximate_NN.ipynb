{
 "cells": [
  {
   "attachments": {},
   "cell_type": "markdown",
   "metadata": {},
   "source": [
    "## Aproximate Nearest Neighbor from Scratch"
   ]
  },
  {
   "cell_type": "code",
   "execution_count": 20,
   "metadata": {},
   "outputs": [],
   "source": [
    "import numpy as np\n",
    "import matplotlib.pyplot as plt"
   ]
  },
  {
   "cell_type": "code",
   "execution_count": 13,
   "metadata": {},
   "outputs": [],
   "source": [
    "class Tree:\n",
    "    def __init__(self,\n",
    "                 children_left = None,\n",
    "                 children_right = None,\n",
    "                 size : int = None):\n",
    "        \"\"\"Class for store Node\n",
    "\n",
    "        Args:\n",
    "            children_left (Tree, optional): \n",
    "                Tree for data left. Defaults to None.\n",
    "            children_right (_type_, optional): \n",
    "                Tree for data right. Defaults to None.\n",
    "            size (int, optional): \n",
    "                Count of data point in a tree. Defaults to None.\n",
    "            is_leaf (bool, optional): \n",
    "                Identifier Tree of a leaf. Defaults to False.\n",
    "        \"\"\"\n",
    "        self.children_left = children_left\n",
    "        self.children_right = children_right\n",
    "        self.size = size\n"
   ]
  },
  {
   "cell_type": "code",
   "execution_count": 23,
   "metadata": {},
   "outputs": [],
   "source": [
    "class ApproximateNearestNeighbor:\n",
    "    def __init__(self,\n",
    "                 min_sample_per_branch : int = 10):\n",
    "        self.min_sample_per_branch = min_sample_per_branch\n",
    "\n",
    "    def create_index(self,\n",
    "                     X : np.array,\n",
    "                     y : np.array) -> None :\n",
    "        # Pass the data by value\n",
    "        X = np.array(X).copy()\n",
    "        y = np.array(X).copy()\n",
    "\n",
    "        # Grow indexing Tree\n",
    "        self.tree = self.grow_index(X, y)\n",
    "\n",
    "    def grow_index(self,\n",
    "                   X : np.array,\n",
    "                   y : np.array):\n",
    "        # calculate node size\n",
    "        node_size = len(X)\n",
    "\n",
    "        # create Tree object\n",
    "        node = Tree(size = node_size)\n",
    "\n",
    "        # if the node size larger than minimum data\n",
    "        if node_size.size > self.min_sample_per_branch:\n",
    "            # split the node\n",
    "            X_left, X_right, y_left, y_right = self.hyperplane_split(X, y)\n",
    "            node.children_left = self.grow_index(X_left, y_left)\n",
    "            node.children_right = self.grow_index(X_right, y_right)\n",
    "        else:\n",
    "            # else return the node\n",
    "            return node\n",
    "\n",
    "    def hyperplane_split(self,\n",
    "                         X : np.array,\n",
    "                         y : np.array):\n",
    "\n",
    "        # pick 2 random data point from data using\n",
    "        random_index = np.random.randint(low=0, high=len(data), size=2)\n",
    "        random_point = X[random_index]\n",
    "\n",
    "        # calculate the middle point\n",
    "        random_middle = (random_point[0] + random_point[1])/2\n",
    "\n",
    "        # vector random point\n",
    "        vector = random_point[0] - random_point[1]\n",
    "\n",
    "        # Create the hyperplane equation\n",
    "        a, b = vector\n",
    "        c = -(a * random_middle[0] + b * random_middle[1])\n",
    "\n",
    "        # calculate the sign for every data \n",
    "        result_sign = np.sign(np.dot(data, np.array([a, b]).T) + c)\n",
    "\n",
    "        # separate the data into left and right data\n",
    "        X_left = X[np.where(result_sign==1)]\n",
    "        X_right = X[np.where(result_sign==-1)]\n",
    "        y_left = y[np.where(result_sign==1)]\n",
    "        y_right = y[np.where(result_sign==-1)]\n",
    "\n",
    "        return X_left, X_right, y_left, y_right\n",
    "        "
   ]
  },
  {
   "cell_type": "code",
   "execution_count": 2,
   "metadata": {},
   "outputs": [],
   "source": [
    "def hyperplane_split(data : np.array):\n",
    "\n",
    "    # pick 2 random data point from data using\n",
    "    random_index = np.random.randint(low=0, high=len(data), size=2)\n",
    "    random_point = data[random_index]\n",
    "\n",
    "    # calculate the middle point\n",
    "    random_middle = (random_point[0] + random_point[1])/2\n",
    "\n",
    "    # vector random point\n",
    "    vector = random_point[0] - random_point[1]\n",
    "\n",
    "    # Create the hyperplane equation\n",
    "    a, b = vector\n",
    "    c = -(a * random_middle[0] + b * random_middle[1])\n",
    "\n",
    "    # calculate the sign for every data \n",
    "    result_sign = np.sign(np.dot(data, np.array([a, b]).T) + c)\n",
    "\n",
    "    # separate the data into left and right data\n",
    "    data_left = data[np.where(result_sign==1)]\n",
    "    data_right = data[np.where(result_sign==-1)]\n",
    "\n",
    "    return data_left, data_right"
   ]
  },
  {
   "cell_type": "code",
   "execution_count": 7,
   "metadata": {},
   "outputs": [
    {
     "data": {
      "text/plain": [
       "((100, 2), (55, 2), (45, 2))"
      ]
     },
     "execution_count": 7,
     "metadata": {},
     "output_type": "execute_result"
    }
   ],
   "source": [
    "data = np.random.rand(100,2)\n",
    "data_1, data_2 = hyperplane_split(data)\n",
    "\n",
    "data.shape, data_1.shape, data_2.shape"
   ]
  },
  {
   "cell_type": "code",
   "execution_count": 8,
   "metadata": {},
   "outputs": [
    {
     "data": {
      "image/png": "[encoded data removed]",
      "text/plain": [
       "<Figure size 720x720 with 1 Axes>"
      ]
     },
     "metadata": {
      "needs_background": "light"
     },
     "output_type": "display_data"
    }
   ],
   "source": [
    "fig, ax = plt.subplots(figsize=(10,10))\n",
    "ax.scatter(data_1[:,0], data_1[:,1], color=\"blue\")\n",
    "ax.scatter(data_2[:,0], data_2[:,1], color=\"red\")\n",
    "plt.show()"
   ]
  },
  {
   "cell_type": "code",
   "execution_count": 9,
   "metadata": {},
   "outputs": [],
   "source": [
    "data_1_1, data_1_2 = hyperplane_split(data_1)\n",
    "data_2_1, data_2_2 = hyperplane_split(data_2)"
   ]
  },
  {
   "cell_type": "code",
   "execution_count": 10,
   "metadata": {},
   "outputs": [
    {
     "data": {
      "image/png": "[encoded data removed]",
      "text/plain": [
       "<Figure size 720x720 with 1 Axes>"
      ]
     },
     "metadata": {
      "needs_background": "light"
     },
     "output_type": "display_data"
    }
   ],
   "source": [
    "fig, ax = plt.subplots(figsize=(10,10))\n",
    "ax.scatter(data_1_1[:,0], data_1_1[:,1], color=\"black\")\n",
    "ax.scatter(data_1_2[:,0], data_1_2[:,1], color=\"grey\")\n",
    "ax.scatter(data_2_1[:,0], data_2_1[:,1], color=\"purple\")\n",
    "ax.scatter(data_2_2[:,0], data_2_2[:,1], color=\"magenta\")\n",
    "plt.show()"
   ]
  },
  {
   "cell_type": "code",
   "execution_count": null,
   "metadata": {},
   "outputs": [],
   "source": []
  }
 ],
 "metadata": {
  "kernelspec": {
   "display_name": "base",
   "language": "python",
   "name": "python3"
  },
  "language_info": {
   "codemirror_mode": {
    "name": "ipython",
    "version": 3
   },
   "file_extension": ".py",
   "mimetype": "text/x-python",
   "name": "python",
   "nbconvert_exporter": "python",
   "pygments_lexer": "ipython3",
   "version": "3.9.12"
  },
  "orig_nbformat": 4
 },
 "nbformat": 4,
 "nbformat_minor": 2
}
