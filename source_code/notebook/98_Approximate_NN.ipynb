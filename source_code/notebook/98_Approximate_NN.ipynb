{
 "cells": [
  {
   "attachments": {},
   "cell_type": "markdown",
   "metadata": {},
   "source": [
    "## Aproximate Nearest Neighbor from Scratch"
   ]
  },
  {
   "cell_type": "code",
   "execution_count": null,
   "metadata": {},
   "outputs": [],
   "source": [
    "Create Next : \n",
    "2. Add priority queue for predict function\n",
    "3. based on max distance from every node"
   ]
  },
  {
   "cell_type": "code",
   "execution_count": 2,
   "metadata": {},
   "outputs": [],
   "source": [
    "import numpy as np\n",
    "import matplotlib.pyplot as plt"
   ]
  },
  {
   "cell_type": "code",
   "execution_count": 64,
   "metadata": {},
   "outputs": [],
   "source": [
    "class Tree:\n",
    "    def __init__(self,\n",
    "                 children_left = None,\n",
    "                 children_right = None,\n",
    "                 size : int = None,\n",
    "                 is_leaf : bool = None,\n",
    "                 hyperplane : np.array = None,\n",
    "                 data_registered : np.array = None,\n",
    "                 label_registered : np.array = None):\n",
    "        \"\"\"Class for store Node\n",
    "\n",
    "        Args:\n",
    "            children_left (Tree, optional): \n",
    "                Tree for data left. Defaults to None.\n",
    "            children_right (_type_, optional): \n",
    "                Tree for data right. Defaults to None.\n",
    "            size (int, optional): \n",
    "                Count of data point in a tree. Defaults to None.\n",
    "        \"\"\"\n",
    "        self.children_left = children_left\n",
    "        self.children_right = children_right\n",
    "        self.size = size\n",
    "        self.is_leaf = is_leaf\n",
    "        self.hyperplane = hyperplane\n",
    "        self.data_registered = data_registered\n",
    "        self.label_registered = label_registered"
   ]
  },
  {
   "cell_type": "code",
   "execution_count": 55,
   "metadata": {},
   "outputs": [],
   "source": [
    "class ApproximateNearestNeighbor:\n",
    "    def __init__(self,\n",
    "                 min_sample_per_branch : int = 10,\n",
    "                 distance_type : str = \"eucledian\"):\n",
    "        self.min_sample_per_branch = min_sample_per_branch\n",
    "        self.distance_type = distance_type\n",
    "\n",
    "    def create_index(self,\n",
    "                     X : np.array,\n",
    "                     y : np.array) -> None :\n",
    "        # Pass the data by value\n",
    "        X = np.array(X).copy()\n",
    "        y = np.array(y).copy()\n",
    "\n",
    "        # Grow indexing Tree\n",
    "        self.forest = self.create_forest(X, y, 10)\n",
    "\n",
    "    def create_forest(self,\n",
    "                    X : np.array,\n",
    "                    y : np.array,\n",
    "                    n_tree : int = 10) -> np.array :\n",
    "        # prepare the container object\n",
    "        trees = []\n",
    "\n",
    "        for i in range(n_tree):\n",
    "            tree = self.grow_index(X,y)\n",
    "            trees.append(tree)\n",
    "        \n",
    "        return trees\n",
    "\n",
    "    def grow_index(self,\n",
    "                   X : np.array,\n",
    "                   y : np.array,\n",
    "                   depth : int = 0):\n",
    "        # calculate node size\n",
    "        node_size = len(X)\n",
    "\n",
    "        # if the node size larger than minimum data\n",
    "        if node_size > self.min_sample_per_branch:\n",
    "\n",
    "            # create Tree object without\n",
    "            # registering data\n",
    "            node = Tree(size = node_size, is_leaf = False)\n",
    "\n",
    "            # split the node\n",
    "            # and calculate hyperplane parameter\n",
    "            X_left, X_right, y_left, y_right, hyperplane = self.hyperplane_split(X, y)\n",
    "            node.hyperplane = hyperplane\n",
    "\n",
    "            # grow recursively the branch\n",
    "            node.children_left = self.grow_index(X_left, y_left, depth+1)\n",
    "            node.children_right = self.grow_index(X_right, y_right, depth+1)\n",
    "        \n",
    "        else :\n",
    "            # create Tree object with\n",
    "            # registered data\n",
    "            node = Tree(size=node_size,\n",
    "                        is_leaf = True,\n",
    "                        data_registered = X,\n",
    "                        label_registered = y,\n",
    "                        hyperplane=None)\n",
    "            \n",
    "        return node\n",
    "    \n",
    "    def hyperplane_split(self,\n",
    "                         X : np.array,\n",
    "                         y :np.array):\n",
    "\n",
    "        # pick 2 random data point from data using\n",
    "        random_index = np.random.randint(low=0, high=len(X)-1, size=2)\n",
    "        random_point = X[random_index]\n",
    "\n",
    "        # calculate the middle point\n",
    "        random_middle = np.sum(random_point, axis=0)/2\n",
    "\n",
    "        # vector random point\n",
    "        vector = random_point[0] - random_point[1]\n",
    "\n",
    "        # Create the hyperplane equation\n",
    "        c = -np.dot(vector,random_middle)\n",
    "        hyperplane = np.append(vector, c)\n",
    "\n",
    "        # calculate the sign for every data \n",
    "        result_sign = np.sign(np.dot(X, hyperplane[:-1].T) + hyperplane[-1])\n",
    "\n",
    "        # separate the data into left and right data\n",
    "        X_left = X[np.where(result_sign==-1)]\n",
    "        X_right = X[np.where(result_sign==1)]\n",
    "        y_left = y[np.where(result_sign==-1)]\n",
    "        y_right = y[np.where(result_sign==1)]\n",
    "\n",
    "        return X_left, X_right, y_left, y_right, hyperplane\n",
    "    \n",
    "    def find_items_forest(self,\n",
    "                          X_in : np.array,\n",
    "                          n_items : int = 10):\n",
    "\n",
    "        # crate empty container for store \n",
    "        # item from each tree with feature \n",
    "        # of X plus 1 for y\n",
    "        item_forest = np.empty((0,X_in.shape[1]+1), dtype=float)\n",
    "\n",
    "        # populate data from leaf\n",
    "        for tree in self.forest:\n",
    "            item_tree = self.find_item_leaf(X_in, tree=tree)\n",
    "            item_forest = np.append(item_forest, item_tree, axis=0)\n",
    "\n",
    "        # eliminate duplicate data\n",
    "        item_forest = np.unique(item_forest, axis=0)\n",
    "\n",
    "        # separate the item feature and item_label\n",
    "        X_forest = item_forest[:,:X_in.shape[1]]\n",
    "        y_forest = item_forest[:,-1]\n",
    "\n",
    "        # rank the X_env and retrieve the y\n",
    "        ranked_index = self.rank_neighbors(X_in,X_forest)\n",
    "        \n",
    "        if len(ranked_index) < n_items:\n",
    "            return y_forest[ranked_index]\n",
    "        else:\n",
    "            return y_forest[ranked_index[:n_items]]\n",
    "        \n",
    "    def find_item_leaf(self,\n",
    "                  X_in : np.array,\n",
    "                  tree):\n",
    "        \n",
    "        if tree.is_leaf:\n",
    "            return np.column_stack((tree.data_registered, tree.label_registered))\n",
    "        \n",
    "        else:\n",
    "            sign_check = np.sign(np.dot(X_in, tree.hyperplane[:-1]) + tree.hyperplane[-1])\n",
    "            if sign_check == 1:\n",
    "                branch = tree.children_right\n",
    "            else:\n",
    "                branch = tree.children_left\n",
    "            return self.find_item_leaf(X_in, branch)\n",
    "        \n",
    "    \n",
    "    def rank_neighbors(self,\n",
    "                         X_in : np.array,\n",
    "                         X_env : np.array) -> np.array :\n",
    "        \"\"\"Method to compute distance between data input\n",
    "           and registered data in a leaf, then rank the \n",
    "           environment\n",
    "\n",
    "        Args:\n",
    "            X_in (np.array) (k,):\n",
    "                Data input into the environment with 1 \n",
    "                data point and k number of feature\n",
    "            X_env (np.array) (n,k):\n",
    "                Data registered in the environment with\n",
    "                n data point registered in the environment\n",
    "                and k number of feature\n",
    "\n",
    "        Returns:\n",
    "            np.array (n,): \n",
    "                array of index of nearest item calculated \n",
    "                between the input and environment data \n",
    "                with size n data index\n",
    "        \"\"\"\n",
    "        \n",
    "        if self.distance_type == \"eucledian\":\n",
    "            distance = np.linalg.norm(X_env - X_in, axis=1)\n",
    "            rank_index = np.argsort(distance)\n",
    "\n",
    "        elif self.distance_type == \"manhattan\":\n",
    "            distance = np.sum(np.abs(X_env - X_in), axis=1)\n",
    "            rank_index = np.argsort(distance)\n",
    "\n",
    "        elif self.distance_type == \"cosine-similarity\":\n",
    "            distance = np.squeeze(X_env @ X_in.T)/(np.linalg.norm(X_env, axis=1)*np.linalg.norm(X_in))\n",
    "            rank_index = np.argsort(-distance)\n",
    "\n",
    "        else:\n",
    "            distance = np.squeeze(X_env @ X_in.T)\n",
    "            rank_index = np.argsort(-distance)\n",
    "\n",
    "        return rank_index"
   ]
  },
  {
   "cell_type": "code",
   "execution_count": 61,
   "metadata": {},
   "outputs": [
    {
     "name": "stdout",
     "output_type": "stream",
     "text": [
      "[0.19798236 0.35213506 0.34625828 0.71753865 0.53268257] 971\n"
     ]
    }
   ],
   "source": [
    "X = np.random.rand(100,5)\n",
    "y = np.random.randint(low=100, high=1000, size=100)\n",
    "\n",
    "print(X[0], y[0])"
   ]
  },
  {
   "cell_type": "code",
   "execution_count": 62,
   "metadata": {},
   "outputs": [],
   "source": [
    "model = ApproximateNearestNeighbor(min_sample_per_branch=10)\n",
    "model.create_index(X, y)"
   ]
  },
  {
   "cell_type": "code",
   "execution_count": 63,
   "metadata": {},
   "outputs": [
    {
     "data": {
      "text/plain": [
       "array([971., 809., 915., 935., 974., 225., 566., 965., 477., 618.])"
      ]
     },
     "execution_count": 63,
     "metadata": {},
     "output_type": "execute_result"
    }
   ],
   "source": [
    "model.find_items_forest(np.array([[0.19798236,0.35213506,0.34625828,0.71753865,0.53268257]]))"
   ]
  },
  {
   "cell_type": "code",
   "execution_count": 27,
   "metadata": {},
   "outputs": [
    {
     "name": "stdout",
     "output_type": "stream",
     "text": [
      "None\n"
     ]
    }
   ],
   "source": [
    "model.tree.children_left.children_left.children_left.children_right.hyperplane"
   ]
  }
 ],
 "metadata": {
  "kernelspec": {
   "display_name": "base",
   "language": "python",
   "name": "python3"
  },
  "language_info": {
   "codemirror_mode": {
    "name": "ipython",
    "version": 3
   },
   "file_extension": ".py",
   "mimetype": "text/x-python",
   "name": "python",
   "nbconvert_exporter": "python",
   "pygments_lexer": "ipython3",
   "version": "3.9.12"
  },
  "orig_nbformat": 4
 },
 "nbformat": 4,
 "nbformat_minor": 2
}
