{
 "cells": [
  {
   "attachments": {},
   "cell_type": "markdown",
   "metadata": {},
   "source": [
    "## Aproximate Nearest Neighbor from Scratch"
   ]
  },
  {
   "cell_type": "code",
   "execution_count": 1,
   "metadata": {},
   "outputs": [],
   "source": [
    "import numpy as np\n",
    "import matplotlib.pyplot as plt"
   ]
  },
  {
   "cell_type": "code",
   "execution_count": null,
   "metadata": {},
   "outputs": [],
   "source": [
    "class ApproximateNearestNeighbor:\n",
    "    def __init__(self, min_sample_per_branch):\n",
    "        self.min_sample_per_branch = min_sample_per_branch\n",
    "\n",
    "\n",
    "    def hyperplane_split():"
   ]
  },
  {
   "cell_type": "code",
   "execution_count": null,
   "metadata": {},
   "outputs": [],
   "source": [
    "def hyperplane_split(data : np.array):\n",
    "\n",
    "    # pick 2 random data point from data using\n",
    "    random_index = np.random.randint(low=0, high=len(data), size=2)\n",
    "    random_point = data[random_index]\n",
    "\n",
    "    # calculate the middle point\n",
    "    random_middle = (random_point[0] + random_point[1])/2\n",
    "\n",
    "    # vector random point\n",
    "    vector = random_point[0] - random_point[1]\n",
    "\n",
    "    # Create the hyperplane equation\n",
    "    a, b = vector\n",
    "    c = -(a * random_middle[0] + b * random_middle[1])\n",
    "\n",
    "    # Classify the test points as below or above the hyperplane\n",
    "    data_1 = []\n",
    "    data_2 = []\n",
    "    for d in data:\n",
    "        result = a * d[0] + b * d[1] + c\n",
    "        if result > 0:\n",
    "            data_1.append(d)\n",
    "        else:\n",
    "            data_2.append(d)"
   ]
  },
  {
   "cell_type": "code",
   "execution_count": 160,
   "metadata": {},
   "outputs": [
    {
     "name": "stdout",
     "output_type": "stream",
     "text": [
      "(41, 2)\n",
      "(59, 2)\n"
     ]
    },
    {
     "data": {
      "image/png": "[encoded data removed]",
      "text/plain": [
       "<Figure size 720x720 with 1 Axes>"
      ]
     },
     "metadata": {
      "needs_background": "light"
     },
     "output_type": "display_data"
    }
   ],
   "source": [
    "data = np.random.rand(100,2)\n",
    "fix, ax = plt.subplots(figsize=(10,10))\n",
    "ax.scatter(data[:,0], data[:,1])\n",
    "\n",
    "# pick 2 random number from data using index\n",
    "random_index = np.random.randint(low=0, high=len(data), size=2)\n",
    "random_data_point = data[random_index]\n",
    "ax.scatter(random_data_point[:,0], random_data_point[:,1], color=\"red\")\n",
    "\n",
    "# calculate the middle point\n",
    "random_data_point_middle = (random_data_point[0] + random_data_point[1])/2\n",
    "ax.scatter(random_data_point_middle[0], random_data_point_middle[1], color=\"yellow\")\n",
    "\n",
    "# vector random point\n",
    "vector = random_data_point[0] - random_data_point[1]\n",
    "\n",
    "# Create the hyperplane equation\n",
    "# ax + by + c = 0, where (a, b) is the perpendicular vector, and (x, y) is a point on the hyperplane\n",
    "a, b = vector\n",
    "c = -(a * random_data_point_middle[0] + b * random_data_point_middle[1])\n",
    "\n",
    "# Classify the test points as below or above the hyperplane\n",
    "data_1 = []\n",
    "data_2 = []\n",
    "for d in data:\n",
    "    result = a * d[0] + b * d[1] + c\n",
    "    if result > 0:\n",
    "        data_1.append(d)\n",
    "        ax.scatter(d[0], d[1], color=\"magenta\")\n",
    "    else:\n",
    "        data_2.append(d)\n",
    "        ax.scatter(d[0], d[1], color=\"grey\")\n",
    "\n",
    "print(np.array(data_1).shape)\n",
    "print(np.array(data_2).shape)"
   ]
  },
  {
   "cell_type": "code",
   "execution_count": 163,
   "metadata": {},
   "outputs": [
    {
     "data": {
      "text/plain": [
       "(100,)"
      ]
     },
     "execution_count": 163,
     "metadata": {},
     "output_type": "execute_result"
    }
   ],
   "source": [
    "np.sign(np.dot(data,np.array([a,b]).T) + c).shape\n",
    "        "
   ]
  },
  {
   "cell_type": "code",
   "execution_count": 152,
   "metadata": {},
   "outputs": [
    {
     "data": {
      "text/plain": [
       "(54, 2)"
      ]
     },
     "execution_count": 152,
     "metadata": {},
     "output_type": "execute_result"
    }
   ],
   "source": [
    "np.array(data_2).shape"
   ]
  },
  {
   "cell_type": "code",
   "execution_count": 114,
   "metadata": {},
   "outputs": [
    {
     "data": {
      "text/plain": [
       "0.0"
      ]
     },
     "execution_count": 114,
     "metadata": {},
     "output_type": "execute_result"
    }
   ],
   "source": [
    "np.dot(vector, perpendicular_vector)"
   ]
  },
  {
   "cell_type": "code",
   "execution_count": 70,
   "metadata": {},
   "outputs": [
    {
     "data": {
      "text/plain": [
       "array([-0.37126911,  0.37017695])"
      ]
     },
     "execution_count": 70,
     "metadata": {},
     "output_type": "execute_result"
    }
   ],
   "source": [
    "hyperplane = np.array([grad2, c])\n",
    "hyperplane"
   ]
  }
 ],
 "metadata": {
  "kernelspec": {
   "display_name": "base",
   "language": "python",
   "name": "python3"
  },
  "language_info": {
   "codemirror_mode": {
    "name": "ipython",
    "version": 3
   },
   "file_extension": ".py",
   "mimetype": "text/x-python",
   "name": "python",
   "nbconvert_exporter": "python",
   "pygments_lexer": "ipython3",
   "version": "3.9.12"
  },
  "orig_nbformat": 4
 },
 "nbformat": 4,
 "nbformat_minor": 2
}
