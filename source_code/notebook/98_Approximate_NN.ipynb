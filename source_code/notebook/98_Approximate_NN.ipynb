{
 "cells": [
  {
   "attachments": {},
   "cell_type": "markdown",
   "metadata": {},
   "source": [
    "## Aproximate Nearest Neighbor from Scratch"
   ]
  },
  {
   "cell_type": "code",
   "execution_count": null,
   "metadata": {},
   "outputs": [],
   "source": [
    "Note : \n",
    "1. Create distance calculation : cosine, eucledian, dot_product\n",
    "2. Register data into tree object"
   ]
  },
  {
   "cell_type": "code",
   "execution_count": 20,
   "metadata": {},
   "outputs": [],
   "source": [
    "import numpy as np\n",
    "import matplotlib.pyplot as plt"
   ]
  },
  {
   "cell_type": "code",
   "execution_count": 145,
   "metadata": {},
   "outputs": [],
   "source": [
    "class Node:\n",
    "    def __init__(self,\n",
    "                 children_left = None,\n",
    "                 children_right = None,\n",
    "                 size : int = None,\n",
    "                 is_leaf : bool = None,\n",
    "                 hyperplane : np.array = None):\n",
    "        \"\"\"Class for store Node\n",
    "\n",
    "        Args:\n",
    "            children_left (Tree, optional): \n",
    "                Tree for data left. Defaults to None.\n",
    "            children_right (_type_, optional): \n",
    "                Tree for data right. Defaults to None.\n",
    "            size (int, optional): \n",
    "                Count of data point in a tree. Defaults to None.\n",
    "        \"\"\"\n",
    "        self.children_left = children_left\n",
    "        self.children_right = children_right\n",
    "        self.size = size\n",
    "        self.is_leaf = is_leaf\n",
    "        self.hyperplane = hyperplane\n"
   ]
  },
  {
   "cell_type": "code",
   "execution_count": 146,
   "metadata": {},
   "outputs": [],
   "source": [
    "class ApproximateNearestNeighbor:\n",
    "    def __init__(self,\n",
    "                 min_sample_per_branch : int = 10):\n",
    "        self.min_sample_per_branch = min_sample_per_branch\n",
    "\n",
    "    def create_index(self,\n",
    "                     X : np.array,\n",
    "                     y : np.array) -> None :\n",
    "        # Pass the data by value\n",
    "        X = np.array(X).copy()\n",
    "        y = np.array(X).copy()\n",
    "\n",
    "        # Grow indexing Tree\n",
    "        self.tree = self.grow_index(X, y)\n",
    "\n",
    "    def grow_index(self,\n",
    "                   X : np.array,\n",
    "                   y : np.array,\n",
    "                   depth : int = 0):\n",
    "        # calculate node size\n",
    "        node_size = len(X)\n",
    "\n",
    "        # create Tree object\n",
    "        node = Tree(size = node_size, is_leaf = True)\n",
    "\n",
    "        # if the node size larger than minimum data\n",
    "        if node.size > self.min_sample_per_branch:\n",
    "            # split the node\n",
    "            X_left, X_right, y_left, y_right, hyperplane = self.hyperplane_split(X, y)\n",
    "            node.hyperplane = hyperplane\n",
    "            node.is_leaf = False\n",
    "            node.children_left = self.grow_index(X_left, y_left, depth+1)\n",
    "            node.children_right = self.grow_index(X_right, y_right, depth+1)\n",
    "        return node\n",
    "\n",
    "    def hyperplane_split(self,\n",
    "                         X : np.array):\n",
    "\n",
    "        # pick 2 random data point from data using\n",
    "        random_index = np.random.randint(low=0, high=len(X)-1, size=2)\n",
    "        random_point = X[random_index]\n",
    "\n",
    "        # calculate the middle point\n",
    "        random_middle = (random_point[0] + random_point[1])/2\n",
    "\n",
    "        # vector random point\n",
    "        vector = random_point[0] - random_point[1]\n",
    "\n",
    "        # Create the hyperplane equation\n",
    "        a, b = vector\n",
    "        c = -(a * random_middle[0] + b * random_middle[1])\n",
    "        hyperplane = np.array([a, b, c])\n",
    "\n",
    "        # calculate the sign for every data \n",
    "        result_sign = np.sign(np.dot(X, hyperplane[:-1].T) + hyperplane[-1])\n",
    "\n",
    "        # separate the data into left and right data\n",
    "        X_left = X[np.where(result_sign==-1)]\n",
    "        X_right = X[np.where(result_sign==1)]\n",
    "        y_left = y[np.where(result_sign==-1)]\n",
    "        y_right = y[np.where(result_sign==1)]\n",
    "\n",
    "        return X_left, X_right, y_left, y_right, hyperplane\n",
    "        \n",
    "    def find_similar_item(self,\n",
    "                          X : np.array,\n",
    "                          tree = None):\n",
    "        \n",
    "        if tree == None:\n",
    "            tree = self.tree\n",
    "\n",
    "        if tree.is_leaf:\n",
    "            ## calculate distance using \n",
    "            ## distance equation\n",
    "            pass\n",
    "        else:\n",
    "            sign_check = np.sign(np.dot(X, tree.hyperplane[:-1]) + tree.hyperplane[-1])\n",
    "            if sign_check == 1:\n",
    "                branch = tree.children_right\n",
    "            else:\n",
    "                branch = tree.children_left\n",
    "            return self.find_similar_item(X, branch)\n",
    "        "
   ]
  },
  {
   "cell_type": "code",
   "execution_count": 147,
   "metadata": {},
   "outputs": [
    {
     "name": "stdout",
     "output_type": "stream",
     "text": [
      "(100, 2) (100,)\n"
     ]
    }
   ],
   "source": [
    "X = np.random.rand(100,2)\n",
    "y = np.random.randint(low=100, high=1000, size=100)\n",
    "\n",
    "print(X.shape, y.shape)"
   ]
  },
  {
   "cell_type": "code",
   "execution_count": 148,
   "metadata": {},
   "outputs": [],
   "source": [
    "model = ApproximateNearestNeighbor(min_sample_per_branch=10)\n",
    "model.create_index(X, y)"
   ]
  },
  {
   "cell_type": "code",
   "execution_count": 153,
   "metadata": {},
   "outputs": [
    {
     "data": {
      "text/plain": [
       "array([-0.43780144,  0.23780843,  0.0594893 ])"
      ]
     },
     "execution_count": 153,
     "metadata": {},
     "output_type": "execute_result"
    }
   ],
   "source": [
    "model.tree.hyperplane"
   ]
  },
  {
   "cell_type": "code",
   "execution_count": 2,
   "metadata": {},
   "outputs": [],
   "source": [
    "def hyperplane_split(data : np.array):\n",
    "\n",
    "    # pick 2 random data point from data using\n",
    "    random_index = np.random.randint(low=0, high=len(data), size=2)\n",
    "    random_point = data[random_index]\n",
    "\n",
    "    # calculate the middle point\n",
    "    random_middle = (random_point[0] + random_point[1])/2\n",
    "\n",
    "    # vector random point\n",
    "    vector = random_point[0] - random_point[1]\n",
    "\n",
    "    # Create the hyperplane equation\n",
    "    a, b = vector\n",
    "    c = -(a * random_middle[0] + b * random_middle[1])\n",
    "\n",
    "    # calculate the sign for every data \n",
    "    result_sign = np.sign(np.dot(data, np.array([a, b]).T) + c)\n",
    "\n",
    "    # separate the data into left and right data\n",
    "    data_left = data[np.where(result_sign==1)]\n",
    "    data_right = data[np.where(result_sign==-1)]\n",
    "\n",
    "    return data_left, data_right"
   ]
  },
  {
   "cell_type": "code",
   "execution_count": 7,
   "metadata": {},
   "outputs": [
    {
     "data": {
      "text/plain": [
       "((100, 2), (55, 2), (45, 2))"
      ]
     },
     "execution_count": 7,
     "metadata": {},
     "output_type": "execute_result"
    }
   ],
   "source": [
    "data = np.random.rand(100,2)\n",
    "data_1, data_2 = hyperplane_split(data)\n",
    "\n",
    "data.shape, data_1.shape, data_2.shape"
   ]
  },
  {
   "cell_type": "code",
   "execution_count": 8,
   "metadata": {},
   "outputs": [
    {
     "data": {
      "image/png": "[encoded data removed]",
      "text/plain": [
       "<Figure size 720x720 with 1 Axes>"
      ]
     },
     "metadata": {
      "needs_background": "light"
     },
     "output_type": "display_data"
    }
   ],
   "source": [
    "fig, ax = plt.subplots(figsize=(10,10))\n",
    "ax.scatter(data_1[:,0], data_1[:,1], color=\"blue\")\n",
    "ax.scatter(data_2[:,0], data_2[:,1], color=\"red\")\n",
    "plt.show()"
   ]
  },
  {
   "cell_type": "code",
   "execution_count": 9,
   "metadata": {},
   "outputs": [],
   "source": [
    "data_1_1, data_1_2 = hyperplane_split(data_1)\n",
    "data_2_1, data_2_2 = hyperplane_split(data_2)"
   ]
  },
  {
   "cell_type": "code",
   "execution_count": 10,
   "metadata": {},
   "outputs": [
    {
     "data": {
      "image/png": "[encoded data removed]",
      "text/plain": [
       "<Figure size 720x720 with 1 Axes>"
      ]
     },
     "metadata": {
      "needs_background": "light"
     },
     "output_type": "display_data"
    }
   ],
   "source": [
    "fig, ax = plt.subplots(figsize=(10,10))\n",
    "ax.scatter(data_1_1[:,0], data_1_1[:,1], color=\"black\")\n",
    "ax.scatter(data_1_2[:,0], data_1_2[:,1], color=\"grey\")\n",
    "ax.scatter(data_2_1[:,0], data_2_1[:,1], color=\"purple\")\n",
    "ax.scatter(data_2_2[:,0], data_2_2[:,1], color=\"magenta\")\n",
    "plt.show()"
   ]
  },
  {
   "cell_type": "code",
   "execution_count": 160,
   "metadata": {},
   "outputs": [
    {
     "name": "stdout",
     "output_type": "stream",
     "text": [
      "(41, 2)\n",
      "(59, 2)\n"
     ]
    },
    {
     "data": {
      "image/png": "[encoded data removed]",
      "text/plain": [
       "<Figure size 720x720 with 1 Axes>"
      ]
     },
     "metadata": {
      "needs_background": "light"
     },
     "output_type": "display_data"
    }
   ],
   "source": [
    "data = np.random.rand(100,2)\n",
    "fix, ax = plt.subplots(figsize=(10,10))\n",
    "ax.scatter(data[:,0], data[:,1])\n",
    "\n",
    "# pick 2 random number from data using index\n",
    "random_index = np.random.randint(low=0, high=len(data), size=2)\n",
    "random_data_point = data[random_index]\n",
    "ax.scatter(random_data_point[:,0], random_data_point[:,1], color=\"red\")\n",
    "\n",
    "# calculate the middle point\n",
    "random_data_point_middle = (random_data_point[0] + random_data_point[1])/2\n",
    "ax.scatter(random_data_point_middle[0], random_data_point_middle[1], color=\"yellow\")\n",
    "\n",
    "# vector random point\n",
    "vector = random_data_point[0] - random_data_point[1]\n",
    "\n",
    "# Create the hyperplane equation\n",
    "# ax + by + c = 0, where (a, b) is the perpendicular vector, and (x, y) is a point on the hyperplane\n",
    "a, b = vector\n",
    "c = -(a * random_data_point_middle[0] + b * random_data_point_middle[1])\n",
    "\n",
    "# Classify the test points as below or above the hyperplane\n",
    "data_1 = []\n",
    "data_2 = []\n",
    "for d in data:\n",
    "    result = a * d[0] + b * d[1] + c\n",
    "    if result > 0:\n",
    "        data_1.append(d)\n",
    "        ax.scatter(d[0], d[1], color=\"magenta\")\n",
    "    else:\n",
    "        data_2.append(d)\n",
    "        ax.scatter(d[0], d[1], color=\"grey\")\n",
    "\n",
    "print(np.array(data_1).shape)\n",
    "print(np.array(data_2).shape)"
   ]
  },
  {
   "cell_type": "code",
   "execution_count": 163,
   "metadata": {},
   "outputs": [
    {
     "data": {
      "text/plain": [
       "(100,)"
      ]
     },
     "execution_count": 163,
     "metadata": {},
     "output_type": "execute_result"
    }
   ],
   "source": [
    "np.sign(np.dot(data,np.array([a,b]).T) + c).shape\n",
    "        "
   ]
  },
  {
   "cell_type": "code",
   "execution_count": 152,
   "metadata": {},
   "outputs": [
    {
     "data": {
      "text/plain": [
       "(54, 2)"
      ]
     },
     "execution_count": 152,
     "metadata": {},
     "output_type": "execute_result"
    }
   ],
   "source": [
    "np.array(data_2).shape"
   ]
  },
  {
   "cell_type": "code",
   "execution_count": 114,
   "metadata": {},
   "outputs": [
    {
     "data": {
      "text/plain": [
       "0.0"
      ]
     },
     "execution_count": 114,
     "metadata": {},
     "output_type": "execute_result"
    }
   ],
   "source": [
    "np.dot(vector, perpendicular_vector)"
   ]
  },
  {
   "cell_type": "code",
   "execution_count": 70,
   "metadata": {},
   "outputs": [
    {
     "data": {
      "text/plain": [
       "array([-0.37126911,  0.37017695])"
      ]
     },
     "execution_count": 70,
     "metadata": {},
     "output_type": "execute_result"
    }
   ],
   "source": [
    "hyperplane = np.array([grad2, c])\n",
    "hyperplane"
   ]
  }
 ],
 "metadata": {
  "kernelspec": {
   "display_name": "base",
   "language": "python",
   "name": "python3"
  },
  "language_info": {
   "codemirror_mode": {
    "name": "ipython",
    "version": 3
   },
   "file_extension": ".py",
   "mimetype": "text/x-python",
   "name": "python",
   "nbconvert_exporter": "python",
   "pygments_lexer": "ipython3",
   "version": "3.9.12"
  },
  "orig_nbformat": 4
 },
 "nbformat": 4,
 "nbformat_minor": 2
}
