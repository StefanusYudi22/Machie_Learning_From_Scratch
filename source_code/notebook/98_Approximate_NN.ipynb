{
 "cells": [
  {
   "attachments": {},
   "cell_type": "markdown",
   "metadata": {},
   "source": [
    "## Aproximate Nearest Neighbor from Scratch"
   ]
  },
  {
   "attachments": {},
   "cell_type": "markdown",
   "metadata": {},
   "source": [
    "Create Next : \n",
    "2. Add priority queue for predict function\n",
    "3. based on max distance from every node"
   ]
  },
  {
   "attachments": {},
   "cell_type": "markdown",
   "metadata": {},
   "source": [
    "## Import Library"
   ]
  },
  {
   "cell_type": "code",
   "execution_count": 16,
   "metadata": {},
   "outputs": [
    {
     "name": "stdout",
     "output_type": "stream",
     "text": [
      "WARNING:tensorflow:SavedModel saved prior to TF 2.5 detected when loading Keras model. Please ensure that you are saving the model with model.save() or tf.keras.models.save_model(), *NOT* tf.saved_model.save(). To confirm, there should be a file named \"keras_metadata.pb\" in the SavedModel directory.\n"
     ]
    }
   ],
   "source": [
    "# import basic library for data\n",
    "import numpy as np\n",
    "import matplotlib.pyplot as plt\n",
    "import pandas as pd\n",
    "import joblib\n",
    "\n",
    "# import sys library \n",
    "# and append src folder into path\n",
    "import sys\n",
    "sys.path.append(\"../\")\n",
    "\n",
    "# import approximate_nn and knn library\n",
    "from src.approximate_nn import ApproximateNearestNeighbor\n",
    "from src.approximate_nn import KNearestNeighbor\n",
    "\n",
    "# import train_test_split\n",
    "from sklearn.model_selection import train_test_split\n",
    "\n",
    "# import word embedding model\n",
    "import tensorflow as tf\n",
    "embedding = tf.keras.models.load_model(\"../../model/nnlm-id-dim50/\")"
   ]
  },
  {
   "attachments": {},
   "cell_type": "markdown",
   "metadata": {},
   "source": [
    "## A. Data Preparation"
   ]
  },
  {
   "cell_type": "code",
   "execution_count": 2,
   "metadata": {},
   "outputs": [
    {
     "name": "stdout",
     "output_type": "stream",
     "text": [
      "<class 'pandas.core.frame.DataFrame'>\n",
      "RangeIndex: 93566 entries, 0 to 93565\n",
      "Data columns (total 2 columns):\n",
      " #   Column     Non-Null Count  Dtype \n",
      "---  ------     --------------  ----- \n",
      " 0   words      93566 non-null  object\n",
      " 1   embedding  93566 non-null  object\n",
      "dtypes: object(2)\n",
      "memory usage: 1.4+ MB\n"
     ]
    }
   ],
   "source": [
    "# import embedding data\n",
    "embedding_data = joblib.load(\"../../data/processed/word_embedding.pkl\")\n",
    "embedding_data.info()"
   ]
  },
  {
   "cell_type": "code",
   "execution_count": null,
   "metadata": {},
   "outputs": [],
   "source": [
    "## create train and test data\n",
    "X = embedding_data['embedding']\n",
    "y = embedding_data['words']\n",
    "X_train, X_test, y_train, y_test = train_test_split(X, y, test_size=0.01, random_state=666)\n",
    "\n",
    "# save training and test data\n",
    "joblib.dump(X_train, \"../../data/processed/X_train.pkl\")\n",
    "joblib.dump(X_test, \"../../data/processed/X_test.pkl\")\n",
    "joblib.dump(y_train, \"../../data/processed/y_train.pkl\")\n",
    "joblib.dump(y_test, \"../../data/processed/y_test.pkl\")"
   ]
  },
  {
   "cell_type": "code",
   "execution_count": 17,
   "metadata": {},
   "outputs": [],
   "source": [
    "# load pickle data\n",
    "X_train = joblib.load(\"../../data/processed/X_train.pkl\")\n",
    "X_test = joblib.load(\"../../data/processed/X_test.pkl\")\n",
    "y_train = joblib.load(\"../../data/processed/y_train.pkl\")\n",
    "y_test = joblib.load(\"../../data/processed/y_test.pkl\")"
   ]
  },
  {
   "attachments": {},
   "cell_type": "markdown",
   "metadata": {},
   "source": [
    "## B. Model Training / Registering Data Into Model"
   ]
  },
  {
   "attachments": {},
   "cell_type": "markdown",
   "metadata": {},
   "source": [
    "### B.1. ANN Model"
   ]
  },
  {
   "cell_type": "code",
   "execution_count": 28,
   "metadata": {},
   "outputs": [],
   "source": [
    "ann_model = ApproximateNearestNeighbor(min_size_split=100, distance_type=\"cosine-similarity\", n_tree = 1)\n",
    "ann_model.fit(X = np.array(X_train.to_numpy().tolist()), y=y_train.values.astype('str'))"
   ]
  },
  {
   "attachments": {},
   "cell_type": "markdown",
   "metadata": {},
   "source": [
    "### B.2. KNN Model"
   ]
  },
  {
   "cell_type": "code",
   "execution_count": 23,
   "metadata": {},
   "outputs": [],
   "source": [
    "knn_model = KNearestNeighbor(distance_type=\"cosine-similarity\")\n",
    "knn_model.fit(X = np.array(X_train.to_numpy().tolist()), y=y_train.values.astype('str'))"
   ]
  },
  {
   "attachments": {},
   "cell_type": "markdown",
   "metadata": {},
   "source": [
    "## C. Model Testing / Searching Similar Items"
   ]
  },
  {
   "cell_type": "code",
   "execution_count": 20,
   "metadata": {},
   "outputs": [],
   "source": [
    "def search_similar_item(embedding_model : object,\n",
    "                        neighbors_model : object,\n",
    "                        text_input : str):\n",
    "    # generate embedding for text input\n",
    "    input_embed = embedding_model([text_input]).numpy().squeeze().tolist()\n",
    "\n",
    "    # search neighbors by embedding \n",
    "    similar_item = neighbors_model.find_similar_items(np.array([input_embed]))\n",
    "\n",
    "    return similar_item"
   ]
  },
  {
   "attachments": {},
   "cell_type": "markdown",
   "metadata": {},
   "source": [
    "### C.1. ANN Model"
   ]
  },
  {
   "cell_type": "code",
   "execution_count": 24,
   "metadata": {},
   "outputs": [
    {
     "data": {
      "text/plain": [
       "array(['kucing', 'ular', 'anjing', 'monyet', 'beruang', 'sumur kucing',\n",
       "       'singa', 'rusa', 'kelelawar', 'piton'], dtype='<U44')"
      ]
     },
     "execution_count": 24,
     "metadata": {},
     "output_type": "execute_result"
    }
   ],
   "source": [
    "sim_item = search_similar_item(embedding_model=embedding, neighbors_model=ann_model, text_input=\"kucing\")\n",
    "sim_item"
   ]
  },
  {
   "attachments": {},
   "cell_type": "markdown",
   "metadata": {},
   "source": [
    "### C.2. KNN Model"
   ]
  },
  {
   "cell_type": "code",
   "execution_count": 25,
   "metadata": {},
   "outputs": [
    {
     "data": {
      "text/plain": [
       "array(['kucing', 'angsa', 'ular', 'anjing', 'batu kucing', 'monyet',\n",
       "       'kelinci', 'binatang', 'beruang', 'sumur kucing'], dtype='<U44')"
      ]
     },
     "execution_count": 25,
     "metadata": {},
     "output_type": "execute_result"
    }
   ],
   "source": [
    "sim_item_ = search_similar_item(embedding_model=embedding, neighbors_model=knn_model, text_input=\"kucing\")\n",
    "sim_item_"
   ]
  },
  {
   "attachments": {},
   "cell_type": "markdown",
   "metadata": {},
   "source": [
    "## D. Searching Time Comparison"
   ]
  },
  {
   "cell_type": "code",
   "execution_count": 29,
   "metadata": {},
   "outputs": [
    {
     "name": "stdout",
     "output_type": "stream",
     "text": [
      "11.5 ms ± 2.24 ms per loop (mean ± std. dev. of 7 runs, 100 loops each)\n"
     ]
    }
   ],
   "source": [
    "%%timeit\n",
    "sim_item = search_similar_item(embedding_model=embedding, neighbors_model=ann_model, text_input=\"kucing\")"
   ]
  },
  {
   "cell_type": "code",
   "execution_count": 30,
   "metadata": {},
   "outputs": [
    {
     "name": "stdout",
     "output_type": "stream",
     "text": [
      "31.8 ms ± 735 µs per loop (mean ± std. dev. of 7 runs, 10 loops each)\n"
     ]
    }
   ],
   "source": [
    "%%timeit\n",
    "sim_item_ = search_similar_item(embedding_model=embedding, neighbors_model=knn_model, text_input=\"kucing\")"
   ]
  }
 ],
 "metadata": {
  "kernelspec": {
   "display_name": "base",
   "language": "python",
   "name": "python3"
  },
  "language_info": {
   "codemirror_mode": {
    "name": "ipython",
    "version": 3
   },
   "file_extension": ".py",
   "mimetype": "text/x-python",
   "name": "python",
   "nbconvert_exporter": "python",
   "pygments_lexer": "ipython3",
   "version": "3.9.12"
  },
  "orig_nbformat": 4
 },
 "nbformat": 4,
 "nbformat_minor": 2
}
