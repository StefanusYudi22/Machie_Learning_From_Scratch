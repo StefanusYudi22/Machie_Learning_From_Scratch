{
 "cells": [
  {
   "attachments": {},
   "cell_type": "markdown",
   "metadata": {},
   "source": [
    "## Aproximate Nearest Neighbor from Scratch"
   ]
  },
  {
   "attachments": {},
   "cell_type": "markdown",
   "metadata": {},
   "source": [
    "Create Next : \n",
    "2. Add priority queue for predict function\n",
    "3. based on max distance from every node"
   ]
  },
  {
   "attachments": {},
   "cell_type": "markdown",
   "metadata": {},
   "source": [
    "## Import Library"
   ]
  },
  {
   "cell_type": "code",
   "execution_count": 36,
   "metadata": {},
   "outputs": [
    {
     "name": "stdout",
     "output_type": "stream",
     "text": [
      "WARNING:tensorflow:SavedModel saved prior to TF 2.5 detected when loading Keras model. Please ensure that you are saving the model with model.save() or tf.keras.models.save_model(), *NOT* tf.saved_model.save(). To confirm, there should be a file named \"keras_metadata.pb\" in the SavedModel directory.\n"
     ]
    }
   ],
   "source": [
    "# import basic library for data\n",
    "import numpy as np\n",
    "import matplotlib.pyplot as plt\n",
    "import pandas as pd\n",
    "import joblib\n",
    "\n",
    "# import sys library \n",
    "# and append src folder into path\n",
    "import sys\n",
    "sys.path.append(\"../\")\n",
    "\n",
    "# import approximate_nn and knn library\n",
    "from src.approximate_nn import ApproximateNearestNeighbor\n",
    "from src.approximate_nn import KNearestNeighbor\n",
    "\n",
    "# import train_test_split\n",
    "from sklearn.model_selection import train_test_split\n",
    "\n",
    "# import word embedding model\n",
    "import tensorflow as tf\n",
    "embedding_nnlm = tf.keras.models.load_model(\"../../model/nnlm-id-dim50/\")"
   ]
  },
  {
   "attachments": {},
   "cell_type": "markdown",
   "metadata": {},
   "source": [
    "## A. Data Preparation"
   ]
  },
  {
   "cell_type": "code",
   "execution_count": 37,
   "metadata": {},
   "outputs": [
    {
     "name": "stdout",
     "output_type": "stream",
     "text": [
      "<class 'pandas.core.frame.DataFrame'>\n",
      "RangeIndex: 93566 entries, 0 to 93565\n",
      "Data columns (total 2 columns):\n",
      " #   Column     Non-Null Count  Dtype \n",
      "---  ------     --------------  ----- \n",
      " 0   words      93566 non-null  object\n",
      " 1   embedding  93566 non-null  object\n",
      "dtypes: object(2)\n",
      "memory usage: 1.4+ MB\n"
     ]
    }
   ],
   "source": [
    "# import embedding data\n",
    "embedding_data_nnlm = joblib.load(\"../../data/processed/word_embedding_nnlm.pkl\")\n",
    "embedding_data_nnlm.info()"
   ]
  },
  {
   "cell_type": "code",
   "execution_count": 38,
   "metadata": {},
   "outputs": [
    {
     "data": {
      "text/plain": [
       "['../../data/processed/y_nnlm.pkl']"
      ]
     },
     "execution_count": 38,
     "metadata": {},
     "output_type": "execute_result"
    }
   ],
   "source": [
    "## create train and test data\n",
    "X_nnlm = embedding_data_nnlm['embedding']\n",
    "y_nnlm = embedding_data_nnlm['words']\n",
    "\n",
    "# save training and test data\n",
    "joblib.dump(X_nnlm, \"../../data/processed/X_nnlm.pkl\")\n",
    "joblib.dump(y_nnlm, \"../../data/processed/y_nnlm.pkl\")"
   ]
  },
  {
   "cell_type": "code",
   "execution_count": 39,
   "metadata": {},
   "outputs": [],
   "source": [
    "# load pickle data\n",
    "X_nnlm = joblib.load(\"../../data/processed/X_nnlm.pkl\")\n",
    "y_nnlm = joblib.load(\"../../data/processed/y_nnlm.pkl\")"
   ]
  },
  {
   "attachments": {},
   "cell_type": "markdown",
   "metadata": {},
   "source": [
    "## B. Model Training / Registering Data Into Model"
   ]
  },
  {
   "attachments": {},
   "cell_type": "markdown",
   "metadata": {},
   "source": [
    "### B.1. ANN Model"
   ]
  },
  {
   "cell_type": "code",
   "execution_count": 40,
   "metadata": {},
   "outputs": [],
   "source": [
    "ann_model_nnlm = ApproximateNearestNeighbor(min_size_split=100, distance_type=\"cosine-similarity\", n_tree = 1)\n",
    "ann_model_nnlm.fit(X = np.array(X_nnlm.to_numpy().tolist()), y=y_nnlm.values.astype('str'))"
   ]
  },
  {
   "attachments": {},
   "cell_type": "markdown",
   "metadata": {},
   "source": [
    "### B.2. KNN Model"
   ]
  },
  {
   "cell_type": "code",
   "execution_count": 41,
   "metadata": {},
   "outputs": [],
   "source": [
    "knn_model_nnlm = KNearestNeighbor(distance_type=\"cosine-similarity\")\n",
    "knn_model_nnlm.fit(X = np.array(X_nnlm.to_numpy().tolist()), y=y_nnlm.values.astype('str'))"
   ]
  },
  {
   "attachments": {},
   "cell_type": "markdown",
   "metadata": {},
   "source": [
    "## C. Model Testing / Searching Similar Items"
   ]
  },
  {
   "cell_type": "code",
   "execution_count": 42,
   "metadata": {},
   "outputs": [],
   "source": [
    "def search_similar_item(embedding_model : str,\n",
    "                        neighbors_model : object,\n",
    "                        text_input : str):\n",
    "    # generate embedding for text input\n",
    "    input_embed = embedding_nnlm([text_input]).numpy().squeeze().tolist()\n",
    "\n",
    "    # search neighbors by embedding \n",
    "    similar_item = neighbors_model.find_similar_items(np.array([input_embed]))\n",
    "\n",
    "    return similar_item"
   ]
  },
  {
   "attachments": {},
   "cell_type": "markdown",
   "metadata": {},
   "source": [
    "### C.1. ANN Model"
   ]
  },
  {
   "cell_type": "code",
   "execution_count": 43,
   "metadata": {},
   "outputs": [
    {
     "data": {
      "text/plain": [
       "array(['kucing', 'angsa', 'monyet', 'lalat', 'duyung', 'siamang',\n",
       "       'timang gajah', 'pante kera', 'lelaki', 'cecak'], dtype='<U44')"
      ]
     },
     "execution_count": 43,
     "metadata": {},
     "output_type": "execute_result"
    }
   ],
   "source": [
    "sim_item = search_similar_item(embedding_model=\"nnlm\", neighbors_model=ann_model_nnlm, text_input=\"kucing\")\n",
    "sim_item"
   ]
  },
  {
   "attachments": {},
   "cell_type": "markdown",
   "metadata": {},
   "source": [
    "### C.2. KNN Model"
   ]
  },
  {
   "cell_type": "code",
   "execution_count": 44,
   "metadata": {},
   "outputs": [
    {
     "data": {
      "text/plain": [
       "array(['kucing', 'angsa', 'ular', 'anjing', 'batu kucing', 'monyet',\n",
       "       'kelinci', 'binatang', 'beruang', 'sumur kucing'], dtype='<U44')"
      ]
     },
     "execution_count": 44,
     "metadata": {},
     "output_type": "execute_result"
    }
   ],
   "source": [
    "sim_item_ = search_similar_item(embedding_model=\"nnlm\", neighbors_model=knn_model_nnlm, text_input=\"kucing\")\n",
    "sim_item_"
   ]
  },
  {
   "attachments": {},
   "cell_type": "markdown",
   "metadata": {},
   "source": [
    "## D. Searching Time Comparison"
   ]
  },
  {
   "cell_type": "code",
   "execution_count": 50,
   "metadata": {},
   "outputs": [
    {
     "name": "stdout",
     "output_type": "stream",
     "text": [
      "9.82 ms ± 0 ns per loop (mean ± std. dev. of 1 run, 1,000 loops each)\n"
     ]
    }
   ],
   "source": [
    "%%timeit -r 1 -n 1000\n",
    "sim_item = search_similar_item(embedding_model=\"nnlm\", neighbors_model=ann_model_nnlm, text_input=\"kucing\")"
   ]
  },
  {
   "cell_type": "code",
   "execution_count": 51,
   "metadata": {},
   "outputs": [
    {
     "name": "stdout",
     "output_type": "stream",
     "text": [
      "30.8 ms ± 0 ns per loop (mean ± std. dev. of 1 run, 1,000 loops each)\n"
     ]
    }
   ],
   "source": [
    "%%timeit -r 1 -n 1000\n",
    "sim_item_ = search_similar_item(embedding_model=\"nnlm\", neighbors_model=knn_model_nnlm, text_input=\"kucing\")"
   ]
  }
 ],
 "metadata": {
  "kernelspec": {
   "display_name": "base",
   "language": "python",
   "name": "python3"
  },
  "language_info": {
   "codemirror_mode": {
    "name": "ipython",
    "version": 3
   },
   "file_extension": ".py",
   "mimetype": "text/x-python",
   "name": "python",
   "nbconvert_exporter": "python",
   "pygments_lexer": "ipython3",
   "version": "3.9.12"
  },
  "orig_nbformat": 4
 },
 "nbformat": 4,
 "nbformat_minor": 2
}
