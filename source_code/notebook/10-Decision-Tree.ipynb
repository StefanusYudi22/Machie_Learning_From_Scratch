{
 "cells": [
  {
   "attachments": {},
   "cell_type": "markdown",
   "metadata": {},
   "source": [
    "# Decision Tree"
   ]
  },
  {
   "cell_type": "code",
   "execution_count": 37,
   "metadata": {},
   "outputs": [],
   "source": [
    "import sys\n",
    "sys.path.append(\"../\")\n",
    "import numpy as np\n",
    "from typing import Any"
   ]
  },
  {
   "cell_type": "code",
   "execution_count": 39,
   "metadata": {},
   "outputs": [],
   "source": [
    "def _calculate_majority_vote(y : np.array) -> Any:\n",
    "    \"\"\"Compute Mode of a node \n",
    "\n",
    "    Args:\n",
    "        y (np.array) (n,):\n",
    "            Target value of a certain node \n",
    "            with the size on n data \n",
    "\n",
    "    Returns:\n",
    "        Any (single value): \n",
    "            Return string or int depend on the\n",
    "            target value used\n",
    "    \"\"\"\n",
    "    # Extract output\n",
    "    vals, counts = np.unique(y, return_counts = True)\n",
    "\n",
    "    # Find the majority vote\n",
    "    ind_max = np.argmax(counts)\n",
    "    y_pred = vals[ind_max]\n",
    "\n",
    "    return y_pred"
   ]
  },
  {
   "cell_type": "code",
   "execution_count": 43,
   "metadata": {},
   "outputs": [],
   "source": [
    "class Tree:\n",
    "    \"\"\"\n",
    "    Object-based representation of a binary decision tree.\n",
    "\n",
    "    Parameters\n",
    "    ----------\n",
    "    feature : str, default=None\n",
    "        Node feeature to split on\n",
    "\n",
    "    threshold : float, default=None\n",
    "        Threshold for the internal node i\n",
    "\n",
    "    value : float, default=None\n",
    "        Containts the constant prediction value of each node\n",
    "\n",
    "    impurity : float, default=None\n",
    "        Holds the impurity (i.e., the value of the splitting criterion)\n",
    "        at node i\n",
    "\n",
    "    children_left : Tree object, default=None\n",
    "        Handles the case where X[:, feature[i]] <= threshold[i]\n",
    "\n",
    "    children_right : Tree object, default=None\n",
    "        Handles the case where X[:, feature[i]] > threshold[i]\n",
    "\n",
    "    is_leaf : bool, deafult=False\n",
    "        Whether the current node is a leaf or not\n",
    "\n",
    "    n_samples : int, default=None\n",
    "        The number of samples in current node\n",
    "    \"\"\"\n",
    "    def __init__(\n",
    "        self,\n",
    "        feature : str = None,\n",
    "        threshold : float = None,\n",
    "        value : float = None,\n",
    "        impurity : float = None,\n",
    "        children_left = None,\n",
    "        children_right = None,\n",
    "        is_leaf=False,\n",
    "        n_samples=None\n",
    "    ):\n",
    "        self.feature = feature\n",
    "        self.threshold = threshold\n",
    "        self.value = value\n",
    "        self.impurity = impurity\n",
    "        self.children_left = children_left\n",
    "        self.children_right = children_right\n",
    "        self.is_leaf = is_leaf\n",
    "        self.n_samples = n_samples"
   ]
  },
  {
   "cell_type": "code",
   "execution_count": 34,
   "metadata": {},
   "outputs": [
    {
     "name": "stdout",
     "output_type": "stream",
     "text": [
      "[0.5 2.  4.  5.5 6.5 7.5 8.5]\n",
      "[0.5 2.  4.  5.5 6.5 7.5 8.5]\n"
     ]
    }
   ],
   "source": [
    "X = np.random.randint(0,10,size=10)\n",
    "A = np.unique(X)\n",
    "\n",
    "print(_generate_possible_split(X))\n",
    "print(_generate_possible_split2(X))"
   ]
  },
  {
   "cell_type": "code",
   "execution_count": 28,
   "metadata": {},
   "outputs": [
    {
     "data": {
      "text/plain": [
       "array([0.5, 1.5, 3.5, 5.5])"
      ]
     },
     "execution_count": 28,
     "metadata": {},
     "output_type": "execute_result"
    }
   ],
   "source": [
    "(A[:-1] + A[1:])/2"
   ]
  },
  {
   "cell_type": "code",
   "execution_count": 29,
   "metadata": {},
   "outputs": [
    {
     "data": {
      "text/plain": [
       "array([0.5, 1.5, 3.5, 5.5])"
      ]
     },
     "execution_count": 29,
     "metadata": {},
     "output_type": "execute_result"
    }
   ],
   "source": []
  },
  {
   "cell_type": "code",
   "execution_count": null,
   "metadata": {},
   "outputs": [],
   "source": [
    "## Regression Case"
   ]
  },
  {
   "cell_type": "code",
   "execution_count": null,
   "metadata": {},
   "outputs": [],
   "source": []
  },
  {
   "cell_type": "code",
   "execution_count": null,
   "metadata": {},
   "outputs": [],
   "source": [
    "## Classification Case"
   ]
  },
  {
   "cell_type": "code",
   "execution_count": 4,
   "metadata": {},
   "outputs": [],
   "source": [
    "import sys\n",
    "sys.path.append(\"../\")\n",
    "import numpy as np\n",
    "\n",
    "from src.tree import DecisionTreeClassifier\n",
    "from src.metrics import accuracy_score\n",
    "\n",
    "from sklearn.datasets import load_iris\n",
    "from sklearn.model_selection import train_test_split"
   ]
  },
  {
   "cell_type": "code",
   "execution_count": 5,
   "metadata": {},
   "outputs": [
    {
     "name": "stdout",
     "output_type": "stream",
     "text": [
      "The Decision Tree\n",
      "-----------------\n",
      "feature_3 <= 1.75?\n",
      "|   |T: feature_0 <= 7.10?\n",
      "|   |   |T: feature_1 <= 2.25?\n",
      "|   |   |   |T: feature_2 <= 4.75?\n",
      "|   |   |   |   |T: Pred: 0.00\n",
      "|   |   |   |   |F: Pred: 1.00\n",
      "|   |   |   |F: Pred: 0.00\n",
      "|   |   |F: Pred: 1.00\n",
      "|   |F: feature_2 <= 4.85?\n",
      "|   |   |T: feature_0 <= 6.05?\n",
      "|   |   |   |T: Pred: 0.00\n",
      "|   |   |   |F: Pred: 1.00\n",
      "|   |   |F: Pred: 1.00\n",
      "\n",
      "Accuracy score Train : 1.0000\n",
      "Accuracy score Test  : 0.9111\n",
      "\n",
      "\n",
      "The Decision Tree\n",
      "-----------------\n",
      "feature_3 <= 1.75?\n",
      "|   |T: feature_0 <= 7.10?\n",
      "|   |   |T: feature_1 <= 2.25?\n",
      "|   |   |   |T: Pred: 0.00\n",
      "|   |   |   |F: Pred: 0.00\n",
      "|   |   |F: Pred: 1.00\n",
      "|   |F: feature_2 <= 4.85?\n",
      "|   |   |T: feature_0 <= 6.05?\n",
      "|   |   |   |T: Pred: 0.00\n",
      "|   |   |   |F: Pred: 1.00\n",
      "|   |   |F: Pred: 1.00\n",
      "\n",
      "Accuracy score Train : 0.9905\n",
      "Accuracy score Test  : 0.9111\n",
      "\n",
      "\n"
     ]
    }
   ],
   "source": [
    "# LOAD DATA\n",
    "iris = load_iris()\n",
    "X = iris.data\n",
    "y = np.where(iris.target==2,\n",
    "             1,\n",
    "             0)\n",
    "\n",
    "\n",
    "# SPLIT DATA\n",
    "X_train, X_test, y_train, y_test = train_test_split(X,\n",
    "                                                    y,\n",
    "                                                    test_size = 0.3,\n",
    "                                                    stratify = y,\n",
    "                                                    random_state = 42)\n",
    "\n",
    "\n",
    "\n",
    "# CLASSIFY - A Very Fit Tree\n",
    "# Create a decision tree classfier\n",
    "clf = DecisionTreeClassifier()\n",
    "clf.fit(X_train, y_train)\n",
    "\n",
    "# Plot tree\n",
    "clf._export_tree()\n",
    "print(\"\")\n",
    "\n",
    "# Predict & calculate accuracy score test\n",
    "y_pred_train = clf.predict(X_train)\n",
    "y_pred_test = clf.predict(X_test)\n",
    "print(f\"Accuracy score Train : {accuracy_score(y_train, y_pred_train):.4f}\")\n",
    "print(f\"Accuracy score Test  : {accuracy_score(y_test, y_pred_test):.4f}\")\n",
    "print(\"\")\n",
    "print(\"\")\n",
    "\n",
    "\n",
    "# CLASSIFY - A Simple Tree\n",
    "# Create a decision tree classfier\n",
    "clf = DecisionTreeClassifier(max_depth=3)\n",
    "clf.fit(X_train, y_train)\n",
    "\n",
    "# Plot tree\n",
    "clf._export_tree()\n",
    "print(\"\")\n",
    "\n",
    "# Predict & calculate accuracy score test\n",
    "y_pred_train = clf.predict(X_train)\n",
    "y_pred_test = clf.predict(X_test)\n",
    "print(f\"Accuracy score Train : {accuracy_score(y_train, y_pred_train):.4f}\")\n",
    "print(f\"Accuracy score Test  : {accuracy_score(y_test, y_pred_test):.4f}\")\n",
    "print(\"\")\n",
    "print(\"\")"
   ]
  },
  {
   "cell_type": "code",
   "execution_count": null,
   "metadata": {},
   "outputs": [],
   "source": []
  },
  {
   "cell_type": "code",
   "execution_count": null,
   "metadata": {},
   "outputs": [],
   "source": []
  },
  {
   "cell_type": "code",
   "execution_count": null,
   "metadata": {},
   "outputs": [],
   "source": []
  },
  {
   "cell_type": "code",
   "execution_count": null,
   "metadata": {},
   "outputs": [],
   "source": []
  },
  {
   "cell_type": "code",
   "execution_count": null,
   "metadata": {},
   "outputs": [],
   "source": []
  },
  {
   "cell_type": "code",
   "execution_count": null,
   "metadata": {},
   "outputs": [],
   "source": []
  },
  {
   "cell_type": "code",
   "execution_count": null,
   "metadata": {},
   "outputs": [],
   "source": []
  }
 ],
 "metadata": {
  "kernelspec": {
   "display_name": "base",
   "language": "python",
   "name": "python3"
  },
  "language_info": {
   "codemirror_mode": {
    "name": "ipython",
    "version": 3
   },
   "file_extension": ".py",
   "mimetype": "text/x-python",
   "name": "python",
   "nbconvert_exporter": "python",
   "pygments_lexer": "ipython3",
   "version": "3.9.12"
  },
  "orig_nbformat": 4
 },
 "nbformat": 4,
 "nbformat_minor": 2
}
