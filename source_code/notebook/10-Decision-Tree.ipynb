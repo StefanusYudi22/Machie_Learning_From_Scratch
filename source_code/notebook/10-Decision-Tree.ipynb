{
 "cells": [
  {
   "cell_type": "code",
   "execution_count": null,
   "metadata": {},
   "outputs": [],
   "source": [
    "# Decision Tree"
   ]
  },
  {
   "cell_type": "code",
   "execution_count": null,
   "metadata": {},
   "outputs": [],
   "source": [
    "## Regression Case"
   ]
  },
  {
   "cell_type": "code",
   "execution_count": null,
   "metadata": {},
   "outputs": [],
   "source": []
  },
  {
   "cell_type": "code",
   "execution_count": null,
   "metadata": {},
   "outputs": [],
   "source": [
    "## Classification Case"
   ]
  },
  {
   "cell_type": "code",
   "execution_count": 4,
   "metadata": {},
   "outputs": [],
   "source": [
    "import sys\n",
    "sys.path.append(\"../\")\n",
    "import numpy as np\n",
    "\n",
    "from src.tree import DecisionTreeClassifier\n",
    "from src.metrics import accuracy_score\n",
    "\n",
    "from sklearn.datasets import load_iris\n",
    "from sklearn.model_selection import train_test_split"
   ]
  },
  {
   "cell_type": "code",
   "execution_count": 5,
   "metadata": {},
   "outputs": [
    {
     "name": "stdout",
     "output_type": "stream",
     "text": [
      "The Decision Tree\n",
      "-----------------\n",
      "feature_3 <= 1.75?\n",
      "|   |T: feature_0 <= 7.10?\n",
      "|   |   |T: feature_1 <= 2.25?\n",
      "|   |   |   |T: feature_2 <= 4.75?\n",
      "|   |   |   |   |T: Pred: 0.00\n",
      "|   |   |   |   |F: Pred: 1.00\n",
      "|   |   |   |F: Pred: 0.00\n",
      "|   |   |F: Pred: 1.00\n",
      "|   |F: feature_2 <= 4.85?\n",
      "|   |   |T: feature_0 <= 6.05?\n",
      "|   |   |   |T: Pred: 0.00\n",
      "|   |   |   |F: Pred: 1.00\n",
      "|   |   |F: Pred: 1.00\n",
      "\n",
      "Accuracy score Train : 1.0000\n",
      "Accuracy score Test  : 0.9111\n",
      "\n",
      "\n",
      "The Decision Tree\n",
      "-----------------\n",
      "feature_3 <= 1.75?\n",
      "|   |T: feature_0 <= 7.10?\n",
      "|   |   |T: feature_1 <= 2.25?\n",
      "|   |   |   |T: Pred: 0.00\n",
      "|   |   |   |F: Pred: 0.00\n",
      "|   |   |F: Pred: 1.00\n",
      "|   |F: feature_2 <= 4.85?\n",
      "|   |   |T: feature_0 <= 6.05?\n",
      "|   |   |   |T: Pred: 0.00\n",
      "|   |   |   |F: Pred: 1.00\n",
      "|   |   |F: Pred: 1.00\n",
      "\n",
      "Accuracy score Train : 0.9905\n",
      "Accuracy score Test  : 0.9111\n",
      "\n",
      "\n"
     ]
    }
   ],
   "source": [
    "# LOAD DATA\n",
    "iris = load_iris()\n",
    "X = iris.data\n",
    "y = np.where(iris.target==2,\n",
    "             1,\n",
    "             0)\n",
    "\n",
    "\n",
    "# SPLIT DATA\n",
    "X_train, X_test, y_train, y_test = train_test_split(X,\n",
    "                                                    y,\n",
    "                                                    test_size = 0.3,\n",
    "                                                    stratify = y,\n",
    "                                                    random_state = 42)\n",
    "\n",
    "\n",
    "\n",
    "# CLASSIFY - A Very Fit Tree\n",
    "# Create a decision tree classfier\n",
    "clf = DecisionTreeClassifier()\n",
    "clf.fit(X_train, y_train)\n",
    "\n",
    "# Plot tree\n",
    "clf._export_tree()\n",
    "print(\"\")\n",
    "\n",
    "# Predict & calculate accuracy score test\n",
    "y_pred_train = clf.predict(X_train)\n",
    "y_pred_test = clf.predict(X_test)\n",
    "print(f\"Accuracy score Train : {accuracy_score(y_train, y_pred_train):.4f}\")\n",
    "print(f\"Accuracy score Test  : {accuracy_score(y_test, y_pred_test):.4f}\")\n",
    "print(\"\")\n",
    "print(\"\")\n",
    "\n",
    "\n",
    "# CLASSIFY - A Simple Tree\n",
    "# Create a decision tree classfier\n",
    "clf = DecisionTreeClassifier(max_depth=3)\n",
    "clf.fit(X_train, y_train)\n",
    "\n",
    "# Plot tree\n",
    "clf._export_tree()\n",
    "print(\"\")\n",
    "\n",
    "# Predict & calculate accuracy score test\n",
    "y_pred_train = clf.predict(X_train)\n",
    "y_pred_test = clf.predict(X_test)\n",
    "print(f\"Accuracy score Train : {accuracy_score(y_train, y_pred_train):.4f}\")\n",
    "print(f\"Accuracy score Test  : {accuracy_score(y_test, y_pred_test):.4f}\")\n",
    "print(\"\")\n",
    "print(\"\")"
   ]
  },
  {
   "cell_type": "code",
   "execution_count": null,
   "metadata": {},
   "outputs": [],
   "source": []
  },
  {
   "cell_type": "code",
   "execution_count": null,
   "metadata": {},
   "outputs": [],
   "source": []
  },
  {
   "cell_type": "code",
   "execution_count": null,
   "metadata": {},
   "outputs": [],
   "source": []
  },
  {
   "cell_type": "code",
   "execution_count": null,
   "metadata": {},
   "outputs": [],
   "source": []
  },
  {
   "cell_type": "code",
   "execution_count": null,
   "metadata": {},
   "outputs": [],
   "source": []
  },
  {
   "cell_type": "code",
   "execution_count": null,
   "metadata": {},
   "outputs": [],
   "source": []
  },
  {
   "cell_type": "code",
   "execution_count": null,
   "metadata": {},
   "outputs": [],
   "source": []
  }
 ],
 "metadata": {
  "kernelspec": {
   "display_name": "base",
   "language": "python",
   "name": "python3"
  },
  "language_info": {
   "codemirror_mode": {
    "name": "ipython",
    "version": 3
   },
   "file_extension": ".py",
   "mimetype": "text/x-python",
   "name": "python",
   "nbconvert_exporter": "python",
   "pygments_lexer": "ipython3",
   "version": "3.9.12"
  },
  "orig_nbformat": 4
 },
 "nbformat": 4,
 "nbformat_minor": 2
}
